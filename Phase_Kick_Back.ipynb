{
 "cells": [
  {
   "cell_type": "code",
   "execution_count": 7,
   "id": "8bdae417-019f-4c3e-a5e3-adaf551dde2a",
   "metadata": {},
   "outputs": [],
   "source": [
    "from qiskit import QuantumCircuit\n",
    "from qiskit.visualization import plot_bloch_multivector ,plot_state_qsphere\n",
    "from qiskit.visualization import plot_state_qsphere, plot_histogram\n",
    "from qiskit.quantum_info import Statevector"
   ]
  },
  {
   "cell_type": "code",
   "execution_count": 5,
   "id": "1d4f719e-74da-4d93-a766-c36fe1c42e4d",
   "metadata": {},
   "outputs": [
    {
     "data": {
      "text/html": [
       "<pre style=\"word-wrap: normal;white-space: pre;background: #fff0;line-height: 1.1;font-family: &quot;Courier New&quot;,Courier,monospace\">                ░                      ░           \n",
       "q_0: ───────────░───■──────────────────░───────────\n",
       "                ░   │  ┌───┐     ┌───┐ ░           \n",
       "q_1: ───────────░───┼──┤ X ├──■──┤ X ├─░───────────\n",
       "     ┌───┐┌───┐ ░ ┌─┴─┐└───┘┌─┴─┐└───┘ ░ ┌───┐┌───┐\n",
       "q_2: ┤ X ├┤ H ├─░─┤ X ├─────┤ X ├──────░─┤ H ├┤ X ├\n",
       "     └───┘└───┘ ░ └───┘     └───┘      ░ └───┘└───┘</pre>"
      ],
      "text/plain": [
       "                ░                      ░           \n",
       "q_0: ───────────░───■──────────────────░───────────\n",
       "                ░   │  ┌───┐     ┌───┐ ░           \n",
       "q_1: ───────────░───┼──┤ X ├──■──┤ X ├─░───────────\n",
       "     ┌───┐┌───┐ ░ ┌─┴─┐└───┘┌─┴─┐└───┘ ░ ┌───┐┌───┐\n",
       "q_2: ┤ X ├┤ H ├─░─┤ X ├─────┤ X ├──────░─┤ H ├┤ X ├\n",
       "     └───┘└───┘ ░ └───┘     └───┘      ░ └───┘└───┘"
      ]
     },
     "execution_count": 5,
     "metadata": {},
     "output_type": "execute_result"
    }
   ],
   "source": [
    "n=2\n",
    "ckt = QuantumCircuit(n+1)\n",
    "ckt.x(n)\n",
    "ckt.h(n)\n",
    "ckt.barrier()\n",
    "ckt.cx(0,n)\n",
    "ckt.x(1)\n",
    "ckt.cx(1,n)\n",
    "ckt.x(1)\n",
    "ckt.barrier()\n",
    "ckt.h(n)\n",
    "ckt.x(n)\n",
    "ckt.draw()"
   ]
  },
  {
   "cell_type": "code",
   "execution_count": 11,
   "id": "844d36e0-356f-4183-a6f5-f2b2ee651fcb",
   "metadata": {},
   "outputs": [
    {
     "name": "stdout",
     "output_type": "stream",
     "text": [
      "Statevector([0.+0.j, 0.+0.j, 0.+0.j, 1.+0.j, 0.+0.j, 0.+0.j, 0.+0.j,\n",
      "             0.+0.j],\n",
      "            dims=(2, 2, 2))\n"
     ]
    }
   ],
   "source": [
    "sv=Statevector.from_label('011')\n",
    "print(sv)"
   ]
  },
  {
   "cell_type": "code",
   "execution_count": 12,
   "id": "a102bdd7-38e2-42f9-a91c-8d921fdcc0f0",
   "metadata": {},
   "outputs": [
    {
     "name": "stdout",
     "output_type": "stream",
     "text": [
      "Statevector([ 0.00000000e+00+0.j,  0.00000000e+00+0.j,  0.00000000e+00+0.j,\n",
      "             -1.00000000e+00+0.j,  0.00000000e+00+0.j,  0.00000000e+00+0.j,\n",
      "              0.00000000e+00+0.j,  2.23711432e-17+0.j],\n",
      "            dims=(2, 2, 2))\n"
     ]
    }
   ],
   "source": [
    "new_sv = sv.evolve(ckt)\n",
    "print(new_sv)"
   ]
  },
  {
   "cell_type": "code",
   "execution_count": null,
   "id": "579743bc-289c-4618-92f2-07264d76c3a4",
   "metadata": {},
   "outputs": [],
   "source": []
  }
 ],
 "metadata": {
  "kernelspec": {
   "display_name": "Python 3 (ipykernel)",
   "language": "python",
   "name": "python3"
  },
  "language_info": {
   "codemirror_mode": {
    "name": "ipython",
    "version": 3
   },
   "file_extension": ".py",
   "mimetype": "text/x-python",
   "name": "python",
   "nbconvert_exporter": "python",
   "pygments_lexer": "ipython3",
   "version": "3.11.4"
  }
 },
 "nbformat": 4,
 "nbformat_minor": 5
}
